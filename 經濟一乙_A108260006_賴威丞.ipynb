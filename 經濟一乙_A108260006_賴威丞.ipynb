{
  "nbformat": 4,
  "nbformat_minor": 0,
  "metadata": {
    "colab": {
      "name": "經濟一乙 A108260006 賴威丞.ipynb",
      "provenance": []
    },
    "kernelspec": {
      "name": "python3",
      "display_name": "Python 3"
    }
  },
  "cells": [
    {
      "cell_type": "code",
      "metadata": {
        "id": "6wb61EkrUJq0",
        "colab_type": "code",
        "colab": {
          "base_uri": "https://localhost:8080/",
          "height": 165
        },
        "outputId": "e94d44ab-b9b5-4c1a-b728-cd93ed2c2ab3"
      },
      "source": [
        "#光有名字不行\n",
        "print(a)"
      ],
      "execution_count": 1,
      "outputs": [
        {
          "output_type": "error",
          "ename": "NameError",
          "evalue": "ignored",
          "traceback": [
            "\u001b[0;31m---------------------------------------------------------------------------\u001b[0m",
            "\u001b[0;31mNameError\u001b[0m                                 Traceback (most recent call last)",
            "\u001b[0;32m<ipython-input-1-bca0e2660b9f>\u001b[0m in \u001b[0;36m<module>\u001b[0;34m()\u001b[0m\n\u001b[0;32m----> 1\u001b[0;31m \u001b[0mprint\u001b[0m\u001b[0;34m(\u001b[0m\u001b[0ma\u001b[0m\u001b[0;34m)\u001b[0m\u001b[0;34m\u001b[0m\u001b[0;34m\u001b[0m\u001b[0m\n\u001b[0m",
            "\u001b[0;31mNameError\u001b[0m: name 'a' is not defined"
          ]
        }
      ]
    },
    {
      "cell_type": "code",
      "metadata": {
        "id": "9ubRzK-CU7DU",
        "colab_type": "code",
        "colab": {
          "base_uri": "https://localhost:8080/",
          "height": 34
        },
        "outputId": "ef23bcd1-1376-416d-c786-47a01f146bc4"
      },
      "source": [
        "# 要有內容\n",
        "a=1\n",
        "a"
      ],
      "execution_count": 2,
      "outputs": [
        {
          "output_type": "execute_result",
          "data": {
            "text/plain": [
              "1"
            ]
          },
          "metadata": {
            "tags": []
          },
          "execution_count": 2
        }
      ]
    },
    {
      "cell_type": "code",
      "metadata": {
        "id": "JLpub-oDVGHu",
        "colab_type": "code",
        "colab": {
          "base_uri": "https://localhost:8080/",
          "height": 34
        },
        "outputId": "786e3b43-c40c-420b-8f7d-49f7a3566994"
      },
      "source": [
        "a=\"Python\"\n",
        "a"
      ],
      "execution_count": 3,
      "outputs": [
        {
          "output_type": "execute_result",
          "data": {
            "text/plain": [
              "'Python'"
            ]
          },
          "metadata": {
            "tags": []
          },
          "execution_count": 3
        }
      ]
    },
    {
      "cell_type": "code",
      "metadata": {
        "id": "2_MxpjPmVLzE",
        "colab_type": "code",
        "colab": {}
      },
      "source": [
        "##資料內容的基本型別有三:數字(整數、浮點數)、布林與文字(字串)。\n",
        "a=123\n",
        "b=123.456\n",
        "c=\"Python\"\n",
        "d=False"
      ],
      "execution_count": 0,
      "outputs": []
    },
    {
      "cell_type": "code",
      "metadata": {
        "id": "deFF5m8xVQKp",
        "colab_type": "code",
        "colab": {
          "base_uri": "https://localhost:8080/",
          "height": 51
        },
        "outputId": "4969a0f9-a7ca-49ee-90aa-1cd39b5d624d"
      },
      "source": [
        "#資料有位址:id()\n",
        "a=1\n",
        "print(a, id(a))\n",
        "b=\"Python\"\n",
        "print(b, id(b))"
      ],
      "execution_count": 5,
      "outputs": [
        {
          "output_type": "stream",
          "text": [
            "1 10914496\n",
            "Python 140058325232696\n"
          ],
          "name": "stdout"
        }
      ]
    },
    {
      "cell_type": "code",
      "metadata": {
        "id": "glK0RkHEVTgQ",
        "colab_type": "code",
        "colab": {
          "base_uri": "https://localhost:8080/",
          "height": 34
        },
        "outputId": "e47a4bc7-d376-4928-9e9f-3838b10d44a1"
      },
      "source": [
        "#不同變數,不同值、不同址\n",
        "x=1\n",
        "y=2\n",
        "print(id(x), id(y))"
      ],
      "execution_count": 6,
      "outputs": [
        {
          "output_type": "stream",
          "text": [
            "10914496 10914528\n"
          ],
          "name": "stdout"
        }
      ]
    },
    {
      "cell_type": "code",
      "metadata": {
        "id": "i9jc2jLbVW9-",
        "colab_type": "code",
        "colab": {
          "base_uri": "https://localhost:8080/",
          "height": 34
        },
        "outputId": "c90e2a77-f157-4d5c-fff6-a8e064e669b5"
      },
      "source": [
        "#不同變數,但相同位址:同值、同址、省空間\n",
        "z=1\n",
        "print(id(x), id(z))"
      ],
      "execution_count": 7,
      "outputs": [
        {
          "output_type": "stream",
          "text": [
            "10914496 10914496\n"
          ],
          "name": "stdout"
        }
      ]
    },
    {
      "cell_type": "code",
      "metadata": {
        "id": "Iis6YrozVZoU",
        "colab_type": "code",
        "colab": {
          "base_uri": "https://localhost:8080/",
          "height": 34
        },
        "outputId": "68c7e207-e929-452b-be14-b9af6b43ac67"
      },
      "source": [
        "# 變數大小可用sys.getsizeof()測量\n",
        "import sys#引進模組使用模組中的指令\n",
        "x=18\n",
        "sys.getsizeof(x)"
      ],
      "execution_count": 8,
      "outputs": [
        {
          "output_type": "execute_result",
          "data": {
            "text/plain": [
              "28"
            ]
          },
          "metadata": {
            "tags": []
          },
          "execution_count": 8
        }
      ]
    },
    {
      "cell_type": "code",
      "metadata": {
        "id": "Q-FrWm6GVdw1",
        "colab_type": "code",
        "colab": {
          "base_uri": "https://localhost:8080/",
          "height": 204
        },
        "outputId": "2a9886bc-b83c-4eb7-e8de-09baed8a7d51"
      },
      "source": [
        "# 布林:根據輸入的資料決定結果是True或False。\n",
        "print(False)\n",
        "print(True)\n",
        "print(False+3)\n",
        "print(True+3)\n",
        "print(False==0)\n",
        "print(True==1)\n",
        "#使用type()函式判斷資料型別\n",
        "print(False, type(False))\n",
        "print(True+1, type(True+1))\n",
        "#使用bool()函式建立資料\n",
        "print(bool(1))\n",
        "print(bool(0))\n",
        "print(bool(()))"
      ],
      "execution_count": 9,
      "outputs": [
        {
          "output_type": "stream",
          "text": [
            "False\n",
            "True\n",
            "3\n",
            "4\n",
            "True\n",
            "True\n",
            "False <class 'bool'>\n",
            "2 <class 'int'>\n",
            "True\n",
            "False\n",
            "False\n"
          ],
          "name": "stdout"
        }
      ]
    },
    {
      "cell_type": "code",
      "metadata": {
        "id": "CX2jcblDVjSY",
        "colab_type": "code",
        "colab": {
          "base_uri": "https://localhost:8080/",
          "height": 102
        },
        "outputId": "41ed767d-dde9-4e22-d69c-560d80f48c06"
      },
      "source": [
        "# 數字\n",
        "a = 100\n",
        "b = 100.001\n",
        "# 使用type()函式判斷資料型別\n",
        "print(type(100))\n",
        "print(type(100.001))\n",
        "# 使用int()與float()函式建立資料\n",
        "print(int(100))\n",
        "print(float(100.001))\n",
        "# 請注意:浮點數在電腦是使用二進位表示小數,所以表達的是近似值,和我們習慣十進位有時不完全相等。\n",
        "# 電腦因為記憶體的原因,無法表示無窮位數的小數點,例如`pi`,只是取有限位數的近似值。\n",
        "print(0.1+0.1+0.1)"
      ],
      "execution_count": 10,
      "outputs": [
        {
          "output_type": "stream",
          "text": [
            "<class 'int'>\n",
            "<class 'float'>\n",
            "100\n",
            "100.001\n",
            "0.30000000000000004\n"
          ],
          "name": "stdout"
        }
      ]
    },
    {
      "cell_type": "code",
      "metadata": {
        "id": "Mcn3PYo-Vocu",
        "colab_type": "code",
        "colab": {
          "base_uri": "https://localhost:8080/",
          "height": 153
        },
        "outputId": "ea486e15-881e-49d0-c67e-cb157e9cf1c0"
      },
      "source": [
        "s1 = '春眠不覺曉,處處聞啼鳥。'\n",
        "print(s1)\n",
        "s2 = \"夜來風雨聲,花落知多少。\"\n",
        "print(s2)\n",
        "s3 = '作者\"孟浩然\" 詩名\"春曉\"'\n",
        "print(s3)\n",
        "s4 = \"作者'孟浩然' 詩名'春曉'\"\n",
        "print(s4)\n",
        "s5 = ''' 春眠不覺曉,處處聞啼鳥。\n",
        "夜來風雨聲,花落知多少。\n",
        "作者\"孟浩然\" 詩名\"春曉\"\n",
        "'''\n",
        "print(s5)"
      ],
      "execution_count": 11,
      "outputs": [
        {
          "output_type": "stream",
          "text": [
            "春眠不覺曉,處處聞啼鳥。\n",
            "夜來風雨聲,花落知多少。\n",
            "作者\"孟浩然\" 詩名\"春曉\"\n",
            "作者'孟浩然' 詩名'春曉'\n",
            " 春眠不覺曉,處處聞啼鳥。\n",
            "夜來風雨聲,花落知多少。\n",
            "作者\"孟浩然\" 詩名\"春曉\"\n",
            "\n"
          ],
          "name": "stdout"
        }
      ]
    },
    {
      "cell_type": "code",
      "metadata": {
        "id": "Cm-MZV_OVtR7",
        "colab_type": "code",
        "colab": {
          "base_uri": "https://localhost:8080/",
          "height": 68
        },
        "outputId": "5c2bf325-d27b-4a96-a8d7-c1e34f20f350"
      },
      "source": [
        "# 螢幕列印:print函式\n",
        "## 有format格式化輸出與%格式化輸出兩種。\n",
        "a = 123\n",
        "b = 123.456\n",
        "print(a)\n",
        "print(\"b=\", b)\n",
        "print(a, b, end = '.') #結束時以.表示"
      ],
      "execution_count": 12,
      "outputs": [
        {
          "output_type": "stream",
          "text": [
            "123\n",
            "b= 123.456\n",
            "123 123.456."
          ],
          "name": "stdout"
        }
      ]
    },
    {
      "cell_type": "code",
      "metadata": {
        "id": "8ch7mCPZVw5q",
        "colab_type": "code",
        "colab": {
          "base_uri": "https://localhost:8080/",
          "height": 85
        },
        "outputId": "fc28ad8b-a5f2-435b-9156-0942d7198d99"
      },
      "source": [
        "print(\"Bigflower Francis\")\n",
        "print(\"Bigflower \\n Francis\") # 跳行\n",
        "print(\"Bigflower \\t Francis\") # 8個空格tab"
      ],
      "execution_count": 13,
      "outputs": [
        {
          "output_type": "stream",
          "text": [
            "Bigflower Francis\n",
            "Bigflower \n",
            " Francis\n",
            "Bigflower \t Francis\n"
          ],
          "name": "stdout"
        }
      ]
    },
    {
      "cell_type": "code",
      "metadata": {
        "id": "V4IjRChUVzR5",
        "colab_type": "code",
        "colab": {
          "base_uri": "https://localhost:8080/",
          "height": 51
        },
        "outputId": "575e87ab-7764-4bf6-f9a5-8e42778076e5"
      },
      "source": [
        "# 螢幕輸入:input函數\n",
        "s = input()\n",
        "s"
      ],
      "execution_count": 14,
      "outputs": [
        {
          "output_type": "stream",
          "text": [
            "123\n"
          ],
          "name": "stdout"
        },
        {
          "output_type": "execute_result",
          "data": {
            "text/plain": [
              "'123'"
            ]
          },
          "metadata": {
            "tags": []
          },
          "execution_count": 14
        }
      ]
    },
    {
      "cell_type": "code",
      "metadata": {
        "id": "Vj2AvUhpV6i1",
        "colab_type": "code",
        "colab": {
          "base_uri": "https://localhost:8080/",
          "height": 51
        },
        "outputId": "8e973bba-c4ff-401f-813a-0808aa45af15"
      },
      "source": [
        "s = input(\"Enter Your Name:\")\n",
        "s"
      ],
      "execution_count": 15,
      "outputs": [
        {
          "output_type": "stream",
          "text": [
            "Enter Your Name:賴威丞\n"
          ],
          "name": "stdout"
        },
        {
          "output_type": "execute_result",
          "data": {
            "text/plain": [
              "'賴威丞'"
            ]
          },
          "metadata": {
            "tags": []
          },
          "execution_count": 15
        }
      ]
    },
    {
      "cell_type": "code",
      "metadata": {
        "id": "hliHEWgcWpk0",
        "colab_type": "code",
        "colab": {
          "base_uri": "https://localhost:8080/",
          "height": 51
        },
        "outputId": "1505d9a8-6499-4f7e-d6c6-fd59c3313150"
      },
      "source": [
        "s = input (\"Enter Your Name:\")\n",
        "print(\"Hi,\", s)"
      ],
      "execution_count": 17,
      "outputs": [
        {
          "output_type": "stream",
          "text": [
            "Enter Your Name:賴威丞\n",
            "Hi, 賴威丞\n"
          ],
          "name": "stdout"
        }
      ]
    },
    {
      "cell_type": "code",
      "metadata": {
        "id": "jrZEXeUxWqrF",
        "colab_type": "code",
        "colab": {
          "base_uri": "https://localhost:8080/",
          "height": 199
        },
        "outputId": "4bdf57c7-6228-4345-b2c4-bb3c5d75e0d2"
      },
      "source": [
        "## 請注意input函數所輸入的資料是字串型態,不同型態的資料不能做運算。\n",
        "s = input (\"Enter Your Number:\")\n",
        "print(s+100)"
      ],
      "execution_count": 18,
      "outputs": [
        {
          "output_type": "stream",
          "text": [
            "Enter Your Number:006\n"
          ],
          "name": "stdout"
        },
        {
          "output_type": "error",
          "ename": "TypeError",
          "evalue": "ignored",
          "traceback": [
            "\u001b[0;31m---------------------------------------------------------------------------\u001b[0m",
            "\u001b[0;31mTypeError\u001b[0m                                 Traceback (most recent call last)",
            "\u001b[0;32m<ipython-input-18-1a730fa1c753>\u001b[0m in \u001b[0;36m<module>\u001b[0;34m()\u001b[0m\n\u001b[1;32m      1\u001b[0m \u001b[0ms\u001b[0m \u001b[0;34m=\u001b[0m \u001b[0minput\u001b[0m \u001b[0;34m(\u001b[0m\u001b[0;34m\"Enter Your Number:\"\u001b[0m\u001b[0;34m)\u001b[0m\u001b[0;34m\u001b[0m\u001b[0;34m\u001b[0m\u001b[0m\n\u001b[0;32m----> 2\u001b[0;31m \u001b[0mprint\u001b[0m\u001b[0;34m(\u001b[0m\u001b[0ms\u001b[0m\u001b[0;34m+\u001b[0m\u001b[0;36m100\u001b[0m\u001b[0;34m)\u001b[0m\u001b[0;34m\u001b[0m\u001b[0;34m\u001b[0m\u001b[0m\n\u001b[0m",
            "\u001b[0;31mTypeError\u001b[0m: must be str, not int"
          ]
        }
      ]
    },
    {
      "cell_type": "code",
      "metadata": {
        "id": "gkvk2UJYWwlb",
        "colab_type": "code",
        "colab": {
          "base_uri": "https://localhost:8080/",
          "height": 153
        },
        "outputId": "7639b400-f2bf-4674-de51-699560f6f4e9"
      },
      "source": [
        "#文字轉數字的整數,請用int()函數\n",
        "s = int(input(\"Enter Your Number:\"))\n",
        "print(100 + s)\n",
        "#文字轉數字的福點數,請用float()函數\n",
        "s = float(input(\"Enter Your Number:\"))\n",
        "print(100 + s)\n",
        "#文字轉數字,均可用eval()函數\n",
        "s = eval(input(\"Enter Your Number:\"))\n",
        "print(100 + s)\n",
        "s = eval(input(\"Enter Your Number:\"))\n",
        "print(100 + s)"
      ],
      "execution_count": 21,
      "outputs": [
        {
          "output_type": "stream",
          "text": [
            "Enter Your Number:123\n",
            "223\n",
            "Enter Your Number:123\n",
            "223.0\n",
            "Enter Your Number:123\n",
            "223\n",
            "Enter Your Number:123\n",
            "223\n"
          ],
          "name": "stdout"
        }
      ]
    },
    {
      "cell_type": "code",
      "metadata": {
        "id": "pFAeQ712XBkT",
        "colab_type": "code",
        "colab": {}
      },
      "source": [
        "# 指定運算子\n",
        "## 用等號(=) 表示,意思是等號右邊先運算,再將運算結果指定給左邊的變數。\n",
        "a = 1 + 2"
      ],
      "execution_count": 0,
      "outputs": []
    },
    {
      "cell_type": "code",
      "metadata": {
        "id": "QAw7WFFmXtHm",
        "colab_type": "code",
        "colab": {
          "base_uri": "https://localhost:8080/",
          "height": 119
        },
        "outputId": "92a43bd6-febc-4457-b865-86096cd64923"
      },
      "source": [
        "# 布林(一):比較運算子\n",
        "## 比較運算子用於比較兩數的大於、小於和等於關係。\n",
        "print (5<2)\n",
        "print (5<=2)\n",
        "print (5>2)\n",
        "print(5>=2)\n",
        "print(5!=2)\n",
        "print(5==2) #請注意不要混淆=和=="
      ],
      "execution_count": 23,
      "outputs": [
        {
          "output_type": "stream",
          "text": [
            "False\n",
            "False\n",
            "True\n",
            "True\n",
            "True\n",
            "False\n"
          ],
          "name": "stdout"
        }
      ]
    },
    {
      "cell_type": "code",
      "metadata": {
        "id": "Qnp4xE-hXxdN",
        "colab_type": "code",
        "colab": {
          "base_uri": "https://localhost:8080/",
          "height": 68
        },
        "outputId": "3e444287-b99f-4554-b131-efe1e0e1c220"
      },
      "source": [
        "#布林(二):邏輯運算子\n",
        "## 邏輯運算子有三種運算子:且(and)、或(or)、非(not)。\n",
        "X = 70\n",
        "print((X>60) and (X<80))\n",
        "print((X>60) or (X<80))\n",
        "print(not(X>60))"
      ],
      "execution_count": 24,
      "outputs": [
        {
          "output_type": "stream",
          "text": [
            "True\n",
            "True\n",
            "False\n"
          ],
          "name": "stdout"
        }
      ]
    },
    {
      "cell_type": "code",
      "metadata": {
        "id": "TDOXnlfpX0WM",
        "colab_type": "code",
        "colab": {
          "base_uri": "https://localhost:8080/",
          "height": 102
        },
        "outputId": "46385cd6-6393-4e94-bedf-894ce4821f92"
      },
      "source": [
        "#布林(三):成員與身份算子\n",
        "## [x in y]判斷x是否為y其中一個元素\n",
        "## [x is y]判斷x與y的id是否相同(在此不是相等==的判斷)\n",
        "x = 1\n",
        "y = [1,2,3]\n",
        "print(x in y)\n",
        "print( x not in y)\n",
        "x = [1,2,3]\n",
        "y = [1,2,3]\n",
        "print(id(x), id(y)) #兩個變數id不同\n",
        "print(x is y)\n",
        "print(x is not y)"
      ],
      "execution_count": 25,
      "outputs": [
        {
          "output_type": "stream",
          "text": [
            "True\n",
            "False\n",
            "140057759267592 140057759267400\n",
            "False\n",
            "True\n"
          ],
          "name": "stdout"
        }
      ]
    },
    {
      "cell_type": "code",
      "metadata": {
        "id": "zch3dtynX4Cy",
        "colab_type": "code",
        "colab": {
          "base_uri": "https://localhost:8080/",
          "height": 136
        },
        "outputId": "70b31dba-9b32-4e91-950f-f24d8f0c33b3"
      },
      "source": [
        "# 數字(一)算術運算子\n",
        "## 算術運算子為數學的運算子\n",
        "print(5 + 2) #加\n",
        "print(5 - 2) #減\n",
        "print(5 * 2) #乘\n",
        "print(5 / 2) #除\n",
        "print(5 // 2) #商\n",
        "print(5 % 2) #餘數\n",
        "print(5 ** 2) #次方"
      ],
      "execution_count": 26,
      "outputs": [
        {
          "output_type": "stream",
          "text": [
            "7\n",
            "3\n",
            "10\n",
            "2.5\n",
            "2\n",
            "1\n",
            "25\n"
          ],
          "name": "stdout"
        }
      ]
    },
    {
      "cell_type": "code",
      "metadata": {
        "id": "JfBu4EUkX6n6",
        "colab_type": "code",
        "colab": {
          "base_uri": "https://localhost:8080/",
          "height": 153
        },
        "outputId": "b3cfd272-46d1-4dca-a592-6946a991075a"
      },
      "source": [
        "# 數字(二)算術指定運算字,為指定運算子和算術運算子的綜合\n",
        "a = 5\n",
        "a = a + 2\n",
        "print(a)\n",
        "a+=2 #a = a + 2\n",
        "print(a)\n",
        "a-=2 #a = a - 2\n",
        "print(a)\n",
        "a*=2 #a = a * 2\n",
        "print(a)\n",
        "a/=2 # a = a / 2\n",
        "print(a)\n",
        "a//=2 # a = a // 2\n",
        "print(a)\n",
        "a%=2 # a = a % 2\n",
        "print(a)\n",
        "a**=2 #a = a**2\n",
        "print(a)"
      ],
      "execution_count": 27,
      "outputs": [
        {
          "output_type": "stream",
          "text": [
            "7\n",
            "9\n",
            "7\n",
            "14\n",
            "7.0\n",
            "3.0\n",
            "1.0\n",
            "1.0\n"
          ],
          "name": "stdout"
        }
      ]
    },
    {
      "cell_type": "code",
      "metadata": {
        "id": "9_-GGNGeX9oA",
        "colab_type": "code",
        "colab": {
          "base_uri": "https://localhost:8080/",
          "height": 102
        },
        "outputId": "e23ce16f-8095-40b8-8ae1-48595fbd4443"
      },
      "source": [
        "s1 =\"123\"\n",
        "s2 = \"456\"\n",
        "s3 = s1+s2\n",
        "print(s3)\n",
        "s4 = s1*2\n",
        "print(s4)\n",
        "\n",
        "s5 = '春眠不覺曉,處處聞啼鳥。\\n\\\n",
        "夜來風雨聲,花落知多少。\\n\\\n",
        "\\t作者\"孟浩然\" 詩名\"春曉\"'\n",
        "print(s5)"
      ],
      "execution_count": 28,
      "outputs": [
        {
          "output_type": "stream",
          "text": [
            "123456\n",
            "123123\n",
            "春眠不覺曉,處處聞啼鳥。\n",
            "夜來風雨聲,花落知多少。\n",
            "\t作者\"孟浩然\" 詩名\"春曉\"\n"
          ],
          "name": "stdout"
        }
      ]
    },
    {
      "cell_type": "code",
      "metadata": {
        "id": "EttmlfUMYAee",
        "colab_type": "code",
        "colab": {
          "base_uri": "https://localhost:8080/",
          "height": 357
        },
        "outputId": "53f4c296-8bb1-422a-ae32-c86faf709e3d"
      },
      "source": [
        "#位置索引\n",
        "s = '123456789'\n",
        "print(s[0]) #位置索引從0開始,不是1開始\n",
        "print(s[1])\n",
        "print(s[-1]) #從右到左倒過來的第一個位置,加負號\n",
        "print(s[-2])\n",
        "#切片\n",
        "s = '0123456789'\n",
        "#索引\n",
        "print('s=', s)\n",
        "print('s[0]=', s[0])\n",
        "print('s[1]=', s[1])\n",
        "print('s[-1]=', s[-1])\n",
        "print('s[-2]=', s[-2])\n",
        "#切片\n",
        "print('s=', s, 's[:]=', s[:]) #從頭到尾\n",
        "print('s=', s, 's[5:]=', s[5:]) #到尾\n",
        "print('s=', s, 's[-2:]=', s[-2:])\n",
        "print('s=', s, 's[:5]=', s[:5]) #從頭\n",
        "print('s=', s, 's[:-2]=', s[:-2])\n",
        "print('s=', s, 's[7:9]=', s[7:9])# 範圍\n",
        "print('s=', s, 's[-4:-1]=', s[-4:-1])\n",
        "print('s=', s, 's[5:-2]=', s[5:-2])\n",
        "print('s=', s, 's[2:10:2]=', s[2:10:2])\n",
        "print('s=', s, 's[::-1]=', s[::-1])\n",
        "print('s=', s, 's[-1::-1]=', s[-1::-1])"
      ],
      "execution_count": 29,
      "outputs": [
        {
          "output_type": "stream",
          "text": [
            "1\n",
            "2\n",
            "9\n",
            "8\n",
            "s= 0123456789\n",
            "s[0]= 0\n",
            "s[1]= 1\n",
            "s[-1]= 9\n",
            "s[-2]= 8\n",
            "s= 0123456789 s[:]= 0123456789\n",
            "s= 0123456789 s[5:]= 56789\n",
            "s= 0123456789 s[-2:]= 89\n",
            "s= 0123456789 s[:5]= 01234\n",
            "s= 0123456789 s[:-2]= 01234567\n",
            "s= 0123456789 s[7:9]= 78\n",
            "s= 0123456789 s[-4:-1]= 678\n",
            "s= 0123456789 s[5:-2]= 567\n",
            "s= 0123456789 s[2:10:2]= 2468\n",
            "s= 0123456789 s[::-1]= 9876543210\n",
            "s= 0123456789 s[-1::-1]= 9876543210\n"
          ],
          "name": "stdout"
        }
      ]
    },
    {
      "cell_type": "code",
      "metadata": {
        "id": "EwDIM0tjYC3V",
        "colab_type": "code",
        "colab": {
          "base_uri": "https://localhost:8080/",
          "height": 136
        },
        "outputId": "8c287ea2-6f97-422e-f4f9-608f78df7297"
      },
      "source": [
        "# 數字:內建函數\n",
        "a = -2\n",
        "print(abs(a)) #絕對值\n",
        "print(abs(-10))\n",
        "print(max(1,2,3,4,5)) #極大值\n",
        "print(min(1,2,3,4,5)) #極小值\n",
        "print(pow(2,3)) ##次方 pow(a,b)為a的b次方\n",
        "print(round(5.8)) #四捨五入\n",
        "print(round(3.14159,2)) #取小數點兩位死捨五入"
      ],
      "execution_count": 30,
      "outputs": [
        {
          "output_type": "stream",
          "text": [
            "2\n",
            "10\n",
            "5\n",
            "1\n",
            "8\n",
            "6\n",
            "3.14\n"
          ],
          "name": "stdout"
        }
      ]
    },
    {
      "cell_type": "code",
      "metadata": {
        "id": "JxeU2bNvYGm8",
        "colab_type": "code",
        "colab": {
          "base_uri": "https://localhost:8080/",
          "height": 68
        },
        "outputId": "2f93655a-0a91-4a50-fcb7-b7a11942eaaa"
      },
      "source": [
        "s = '春眠不覺曉,處處聞啼鳥,夜來風雨聲,花落知多少。'\n",
        "print(len(s))\n",
        "s1='春眠不覺曉,處處聞啼鳥,夜來風雨聲,花落知多少。'\n",
        "list1=s1.split(',') #以逗號,分割字串\n",
        "print(list1)\n",
        "list1 = ['春眠不覺曉','處處聞啼鳥','夜來風雨聲','花落知多少。']\n",
        "s2=','.join(list1) #以逗號,連接字串\n",
        "print(s2)"
      ],
      "execution_count": 31,
      "outputs": [
        {
          "output_type": "stream",
          "text": [
            "24\n",
            "['春眠不覺曉', '處處聞啼鳥', '夜來風雨聲', '花落知多少。']\n",
            "春眠不覺曉,處處聞啼鳥,夜來風雨聲,花落知多少。\n"
          ],
          "name": "stdout"
        }
      ]
    },
    {
      "cell_type": "code",
      "metadata": {
        "id": "0siq0CdfYJZ6",
        "colab_type": "code",
        "colab": {
          "base_uri": "https://localhost:8080/",
          "height": 153
        },
        "outputId": "a5ed70f0-4c2e-44e8-940f-6678b085f87f"
      },
      "source": [
        "s1='春眠不覺曉,處處聞啼鳥,夜來風雨聲,花落知多少。'\n",
        "s3=s1.replace('春','冬') #以冬替代春(冬眠不覺曉)\n",
        "print(s3)\n",
        "s1='春眠不覺曉,處處聞啼鳥,夜來風雨聲,花落知多少。'\n",
        "print(s1.find('花落')) #尋找\n",
        "print(s1.count('處')) #計次\n",
        "s1='An apple a day.'\n",
        "print(s1.capitalize())\n",
        "print(s1.title())\n",
        "print(s1.swapcase())\n",
        "print(s1.upper())\n",
        "print(s1.lower())"
      ],
      "execution_count": 32,
      "outputs": [
        {
          "output_type": "stream",
          "text": [
            "冬眠不覺曉,處處聞啼鳥,夜來風雨聲,花落知多少。\n",
            "18\n",
            "2\n",
            "An apple a day.\n",
            "An Apple A Day.\n",
            "aN APPLE A DAY.\n",
            "AN APPLE A DAY.\n",
            "an apple a day.\n"
          ],
          "name": "stdout"
        }
      ]
    },
    {
      "cell_type": "code",
      "metadata": {
        "id": "avwB0h1EYLh-",
        "colab_type": "code",
        "colab": {
          "base_uri": "https://localhost:8080/",
          "height": 170
        },
        "outputId": "69721da9-bdbb-4783-ade8-757c59c99cc6"
      },
      "source": [
        "#其他參考\n",
        "s1='春眠不覺曉,處處聞啼鳥,夜來風雨聲,花落知多少。'\n",
        "print(s1.startswith('春眠'))\n",
        "print(s1.endswith('多少。'))\n",
        "s1='春眠不覺曉'\n",
        "print(s1.center(10))\n",
        "print(s1.rjust(10))\n",
        "print(s1.ljust(10))\n",
        "s1='123'\n",
        "print(s1.zfill(5))\n",
        "s1=' Hello,Mary. '\n",
        "print(s1.strip())\n",
        "print(s1.lstrip(' H'))\n",
        "print(s1.rstrip(' .'))"
      ],
      "execution_count": 33,
      "outputs": [
        {
          "output_type": "stream",
          "text": [
            "True\n",
            "True\n",
            "  春眠不覺曉   \n",
            "     春眠不覺曉\n",
            "春眠不覺曉     \n",
            "00123\n",
            "Hello,Mary.\n",
            "ello,Mary. \n",
            " Hello,Mary\n"
          ],
          "name": "stdout"
        }
      ]
    },
    {
      "cell_type": "code",
      "metadata": {
        "id": "lkXtJkLaYPmu",
        "colab_type": "code",
        "colab": {}
      },
      "source": [
        ""
      ],
      "execution_count": 0,
      "outputs": []
    }
  ]
}