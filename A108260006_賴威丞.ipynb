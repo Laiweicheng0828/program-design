{
  "nbformat": 4,
  "nbformat_minor": 0,
  "metadata": {
    "colab": {
      "name": "A108260006 賴威丞.ipynb",
      "provenance": []
    },
    "kernelspec": {
      "name": "python3",
      "display_name": "Python 3"
    }
  },
  "cells": [
    {
      "cell_type": "code",
      "metadata": {
        "id": "f2L7StKeIo4H",
        "colab_type": "code",
        "colab": {
          "base_uri": "https://localhost:8080/",
          "height": 102
        },
        "outputId": "16138a94-5e84-402d-97ef-c1ff4f3b5543"
      },
      "source": [
        " n = 0\n",
        " \n",
        " while n < 10:\n",
        "     n = n + 1\n",
        "     print(\"n is\", n)\n",
        "     if n == 4:\n",
        "        break\n",
        "print(\"Finished\") \n",
        "   "
      ],
      "execution_count": 9,
      "outputs": [
        {
          "output_type": "stream",
          "text": [
            "n is 1\n",
            "n is 2\n",
            "n is 3\n",
            "n is 4\n",
            "Finished\n"
          ],
          "name": "stdout"
        }
      ]
    },
    {
      "cell_type": "code",
      "metadata": {
        "id": "4IHNWD7muQav",
        "colab_type": "code",
        "colab": {
          "base_uri": "https://localhost:8080/",
          "height": 85
        },
        "outputId": "6fdec36f-9cce-4abb-c97c-102a792a6082"
      },
      "source": [
        "answer=\"123\"\n",
        "while True:\n",
        "  password=input(\"Enter your password\")\n",
        "  if password==answer:\n",
        "    print(\"Correct\")\n",
        "    break\n",
        "  else:\n",
        "   print(\"Fail,Try again\")"
      ],
      "execution_count": 17,
      "outputs": [
        {
          "output_type": "stream",
          "text": [
            "Enter your password456\n",
            "Fail,Try again\n",
            "Enter your password123\n",
            "Correct\n"
          ],
          "name": "stdout"
        }
      ]
    },
    {
      "cell_type": "code",
      "metadata": {
        "id": "CHh9yAZAwv43",
        "colab_type": "code",
        "colab": {
          "base_uri": "https://localhost:8080/",
          "height": 119
        },
        "outputId": "4f4013b7-fbe0-49b0-875f-42ff0b83f944"
      },
      "source": [
        "answer1=\"123\"\n",
        "answer2=\"456\"\n",
        "while True:\n",
        "  n1=input(\"Enter your password:\")\n",
        "  n2=input(\"Enter your account:\") \n",
        "  if n1==answer1 and n2==answer2:\n",
        "    print(\"Account and Password Correct\")\n",
        "    break\n",
        "  else:\n",
        "    print(\"Fail,Try again\")"
      ],
      "execution_count": 26,
      "outputs": [
        {
          "output_type": "stream",
          "text": [
            "Enter your password:456\n",
            "Enter your account:123\n",
            "Fail,Try again\n",
            "Enter your password:123\n",
            "Enter your account:456\n",
            "Account and Password Correct\n"
          ],
          "name": "stdout"
        }
      ]
    },
    {
      "cell_type": "code",
      "metadata": {
        "id": "Rog8TR_4zrUZ",
        "colab_type": "code",
        "colab": {
          "base_uri": "https://localhost:8080/",
          "height": 136
        },
        "outputId": "570850e8-3c37-4649-cd19-be3c2362232f"
      },
      "source": [
        "amswer1=\"a123456\"\n",
        "x=3\n",
        "while True:\n",
        "   n1=input(\"Enter your password,you have 3 chance\")\n",
        "   if n1==answer1:\n",
        "     print(\"Correct\")\n",
        "     break\n",
        "   else:\n",
        "    x=x-1\n",
        "    print(\"Fail,you have\",x,\"chances\")\n",
        "   if x==0:\n",
        "     print(\"you fail\")\n",
        "     break"
      ],
      "execution_count": 41,
      "outputs": [
        {
          "output_type": "stream",
          "text": [
            "Enter your password,you have 3 chance456\n",
            "Fail,you have 2 chances\n",
            "Enter your password,you have 3 chance456\n",
            "Fail,you have 1 chances\n",
            "Enter your password,you have 3 chance123456\n",
            "Fail,you have 0 chances\n",
            "you fail\n"
          ],
          "name": "stdout"
        }
      ]
    },
    {
      "cell_type": "code",
      "metadata": {
        "id": "4s_pvAkK2XKl",
        "colab_type": "code",
        "colab": {
          "base_uri": "https://localhost:8080/",
          "height": 34
        },
        "outputId": "a2d82e8a-e34f-49d0-c8e5-64c66db97d44"
      },
      "source": [
        "sum = 0\n",
        "\n",
        "for x in range(1,10,2):\n",
        "    sum = sum + x\n",
        "\n",
        "print(\"1+3+5+7+9=\",sum)"
      ],
      "execution_count": 44,
      "outputs": [
        {
          "output_type": "stream",
          "text": [
            "1+3+5+7+9= 25\n"
          ],
          "name": "stdout"
        }
      ]
    },
    {
      "cell_type": "code",
      "metadata": {
        "id": "i0BKK22a3_H9",
        "colab_type": "code",
        "colab": {
          "base_uri": "https://localhost:8080/",
          "height": 34
        },
        "outputId": "c1181ac2-08ee-4175-fa98-416508352cdc"
      },
      "source": [
        "for a in range(6):\n",
        "    print(a,end=\" \")\n",
        "print(\"\")"
      ],
      "execution_count": 46,
      "outputs": [
        {
          "output_type": "stream",
          "text": [
            "0 1 2 3 4 5 \n"
          ],
          "name": "stdout"
        }
      ]
    },
    {
      "cell_type": "code",
      "metadata": {
        "id": "E0NKNZ644qUQ",
        "colab_type": "code",
        "colab": {}
      },
      "source": [
        ""
      ],
      "execution_count": 0,
      "outputs": []
    }
  ]
}