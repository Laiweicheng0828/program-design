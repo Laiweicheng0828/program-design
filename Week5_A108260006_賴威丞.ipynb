{
  "nbformat": 4,
  "nbformat_minor": 0,
  "metadata": {
    "colab": {
      "name": "Week5 A108260006 賴威丞.ipynb",
      "provenance": [],
      "collapsed_sections": []
    },
    "kernelspec": {
      "name": "python3",
      "display_name": "Python 3"
    }
  },
  "cells": [
    {
      "cell_type": "code",
      "metadata": {
        "id": "qPWtN1JN5zI4",
        "colab_type": "code",
        "colab": {}
      },
      "source": [
        ""
      ],
      "execution_count": 0,
      "outputs": []
    },
    {
      "cell_type": "markdown",
      "metadata": {
        "id": "oEozstV8Pn0-",
        "colab_type": "text"
      },
      "source": [
        "＃1. 基本程式設計"
      ]
    },
    {
      "cell_type": "code",
      "metadata": {
        "id": "AzcZfcqyPqkG",
        "colab_type": "code",
        "outputId": "c730c8ac-5384-4cfa-ebcd-93c6f63ac3de",
        "colab": {
          "base_uri": "https://localhost:8080/",
          "height": 102
        }
      },
      "source": [
        "第一次期中考=int(input('請輸入第一次期中考成績'))\n",
        "第二次期中考=int(input('請輸入第二次期中考成績'))\n",
        "期末考=int(input('請輸入期末考成績'))\n",
        "總分=第一次期中考+第二次期中考+期末考\n",
        "平均=總分/3\n",
        "print('總分為',總分)\n",
        "print('平均',平均)"
      ],
      "execution_count": 0,
      "outputs": [
        {
          "output_type": "stream",
          "text": [
            "請輸入第一次期中考成績75\n",
            "請輸入第二次期中考成績80\n",
            "請輸入期末考成績65\n",
            "總分為 220\n",
            "平均 73.33333333333333\n"
          ],
          "name": "stdout"
        }
      ]
    },
    {
      "cell_type": "code",
      "metadata": {
        "id": "Iqj_2WY0UPmt",
        "colab_type": "code",
        "outputId": "7bf7d134-5640-4555-e1f8-394bea986027",
        "colab": {
          "base_uri": "https://localhost:8080/",
          "height": 68
        }
      },
      "source": [
        "#3.英制轉公制\n",
        "尺=int(input('請輸入幾尺'))\n",
        "吋=int(input('請輸入幾吋'))\n",
        "公分=(尺*12+8)*2.54\n",
        "print('尺轉換成',公分)"
      ],
      "execution_count": 0,
      "outputs": [
        {
          "output_type": "stream",
          "text": [
            "請輸入幾尺5\n",
            "請輸入幾吋8\n",
            "尺轉換成 172.72\n"
          ],
          "name": "stdout"
        }
      ]
    },
    {
      "cell_type": "code",
      "metadata": {
        "id": "s-rHJfgLX4iA",
        "colab_type": "code",
        "outputId": "c301d174-bc9b-475b-99fc-c2c2c740e465",
        "colab": {
          "base_uri": "https://localhost:8080/",
          "height": 51
        }
      },
      "source": [
        "#3.分組報告\n",
        "座號=int(input('請輸入座號?'))\n",
        "組別=int(座號/4)\n",
        "print('組別為',組別)"
      ],
      "execution_count": 0,
      "outputs": [
        {
          "output_type": "stream",
          "text": [
            "請輸入座號?40\n",
            "組別為 10\n"
          ],
          "name": "stdout"
        }
      ]
    },
    {
      "cell_type": "code",
      "metadata": {
        "id": "LyHr5-5waOAP",
        "colab_type": "code",
        "outputId": "640712b7-4ef9-4b0e-e719-41b07c275ded",
        "colab": {
          "base_uri": "https://localhost:8080/",
          "height": 51
        }
      },
      "source": [
        "#4.賣場買飲料\n",
        "罐數=int(input('請輸入購買罐數?'))\n",
        "打=int(罐數/12)\n",
        "花費=(打*200)+(罐數-打*12)*20\n",
        "print('需花費',花費)\n"
      ],
      "execution_count": 0,
      "outputs": [
        {
          "output_type": "stream",
          "text": [
            "請輸入購買罐數?30\n",
            "需花費 520\n"
          ],
          "name": "stdout"
        }
      ]
    },
    {
      "cell_type": "code",
      "metadata": {
        "id": "I1Kot4R8a_7e",
        "colab_type": "code",
        "colab": {}
      },
      "source": [
        "#5.電腦中資料儲存單位計算\n",
        "KB=int(input('請輸入KB?'))\n",
        "KB=int(input('請輸入KB?'))\n",
        "KB=int(input('請輸入KB?'))\n",
        "KB=int(input('請輸入KB?'))"
      ],
      "execution_count": 0,
      "outputs": []
    }
  ]
}