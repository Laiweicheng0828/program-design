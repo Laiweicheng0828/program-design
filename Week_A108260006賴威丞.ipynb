{
  "nbformat": 4,
  "nbformat_minor": 0,
  "metadata": {
    "colab": {
      "name": "Week_A108260070許紘造",
      "provenance": [],
      "collapsed_sections": []
    },
    "kernelspec": {
      "name": "python3",
      "display_name": "Python 3"
    }
  },
  "cells": [
    {
      "cell_type": "code",
      "metadata": {
        "id": "_PvxGSk8t1yj",
        "colab_type": "code",
        "colab": {
          "base_uri": "https://localhost:8080/"
        },
        "outputId": "8fbce4f5-20d7-45a4-b848-5f4300b7e4fb"
      },
      "source": [
        "x = 0 \n",
        "while x < 10: \n",
        "    print(\"hello\")\n",
        "    x = x + 1 "
      ],
      "execution_count": 9,
      "outputs": [
        {
          "output_type": "stream",
          "text": [
            "hello\n",
            "hello\n",
            "hello\n",
            "hello\n",
            "hello\n",
            "hello\n",
            "hello\n",
            "hello\n",
            "hello\n",
            "hello\n"
          ],
          "name": "stdout"
        }
      ]
    },
    {
      "cell_type": "code",
      "metadata": {
        "id": "BvJ_ZZ5FvOr2",
        "colab_type": "code",
        "colab": {
          "base_uri": "https://localhost:8080/",
          "height": 187
        },
        "outputId": "79855e46-5fc6-4ca0-a040-39f53a73b178"
      },
      "source": [
        "times = 0 \n",
        "while times < 10: \n",
        "    times = times + 1 \n",
        "    print(\"這是第\", times, \"次的hello\")"
      ],
      "execution_count": 12,
      "outputs": [
        {
          "output_type": "stream",
          "text": [
            "這是第 1 次的hello\n",
            "這是第 2 次的hello\n",
            "這是第 3 次的hello\n",
            "這是第 4 次的hello\n",
            "這是第 5 次的hello\n",
            "這是第 6 次的hello\n",
            "這是第 7 次的hello\n",
            "這是第 8 次的hello\n",
            "這是第 9 次的hello\n",
            "這是第 10 次的hello\n"
          ],
          "name": "stdout"
        }
      ]
    },
    {
      "cell_type": "code",
      "metadata": {
        "id": "HVQSw-eYyT1S",
        "colab_type": "code",
        "colab": {
          "base_uri": "https://localhost:8080/",
          "height": 357
        },
        "outputId": "e9d32968-b02e-4639-e919-1a38ff099bf2"
      },
      "source": [
        "times = 0\n",
        "left = 0 \n",
        "while times < 10: \n",
        "    times = times + 1 \n",
        "    print(\"這是第\", times, \"次的hello\")\n",
        "    left = 10 - times \n",
        "    print(\"還有\", left, \"次機會\")"
      ],
      "execution_count": 13,
      "outputs": [
        {
          "output_type": "stream",
          "text": [
            "這是第 1 次的hello\n",
            "還有 9 次機會\n",
            "這是第 2 次的hello\n",
            "還有 8 次機會\n",
            "這是第 3 次的hello\n",
            "還有 7 次機會\n",
            "這是第 4 次的hello\n",
            "還有 6 次機會\n",
            "這是第 5 次的hello\n",
            "還有 5 次機會\n",
            "這是第 6 次的hello\n",
            "還有 4 次機會\n",
            "這是第 7 次的hello\n",
            "還有 3 次機會\n",
            "這是第 8 次的hello\n",
            "還有 2 次機會\n",
            "這是第 9 次的hello\n",
            "還有 1 次機會\n",
            "這是第 10 次的hello\n",
            "還有 0 次機會\n"
          ],
          "name": "stdout"
        }
      ]
    },
    {
      "cell_type": "code",
      "metadata": {
        "id": "itNThOYeyqwQ",
        "colab_type": "code",
        "colab": {
          "base_uri": "https://localhost:8080/",
          "height": 34
        },
        "outputId": "83340f61-97ab-431a-b8d4-6186537c4655"
      },
      "source": [
        "sum = 0\n",
        "i = 0\n",
        "while sum <= 1000:\n",
        "    i += 1\n",
        "    sum += i*i\n",
        "print('最小的n值為', i)\n"
      ],
      "execution_count": 15,
      "outputs": [
        {
          "output_type": "stream",
          "text": [
            "最小的n值為 14\n"
          ],
          "name": "stdout"
        }
      ]
    },
    {
      "cell_type": "code",
      "metadata": {
        "id": "yy3Dqq7Wzxlu",
        "colab_type": "code",
        "colab": {
          "base_uri": "https://localhost:8080/",
          "height": 34
        },
        "outputId": "922a58fb-aa7d-4d40-b852-9c1ca4b3036c"
      },
      "source": [
        "sum = 0 \n",
        "x = 1 \n",
        "\n",
        "while x < 11: \n",
        "    sum = sum + x \n",
        "    x = x + 2\n",
        "    \n",
        "print(\"1 + 3 + 5 + 7 + 9 = \", sum)"
      ],
      "execution_count": 16,
      "outputs": [
        {
          "output_type": "stream",
          "text": [
            "1 + 3 + 5 + 7 + 9 =  25\n"
          ],
          "name": "stdout"
        }
      ]
    }
  ]
}